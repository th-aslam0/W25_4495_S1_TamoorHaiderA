{
 "cells": [
  {
   "cell_type": "markdown",
   "metadata": {},
   "source": [
    "# SerpAPI Tool Helper"
   ]
  },
  {
   "cell_type": "markdown",
   "metadata": {},
   "source": [
    "This notebook provides a quick rundown of how we construct an async SerpAPI tool. Let's start by query SerpAPI synchronously via their Python SDK:"
   ]
  },
  {
   "cell_type": "code",
   "execution_count": 2,
   "metadata": {},
   "outputs": [
    {
     "name": "stdout",
     "output_type": "stream",
     "text": [
      "{'search_metadata': {'id': '67ed8cd2caa734ab65e16a39', 'status': 'Success', 'json_endpoint': 'https://serpapi.com/searches/6abcbb2cff4fdf59/67ed8cd2caa734ab65e16a39.json', 'created_at': '2025-04-02 19:15:30 UTC', 'processed_at': '2025-04-02 19:15:30 UTC', 'google_url': 'https://www.google.com/search?q=latest+news+in+the+world&oq=latest+news+in+the+world&sourceid=chrome&ie=UTF-8', 'raw_html_file': 'https://serpapi.com/searches/6abcbb2cff4fdf59/67ed8cd2caa734ab65e16a39.html', 'total_time_taken': 0.48}, 'search_parameters': {'engine': 'google', 'q': 'latest news in the world', 'google_domain': 'google.com', 'device': 'desktop'}, 'search_information': {'query_displayed': 'latest news in the world', 'total_results': 1940000000, 'time_taken_displayed': 0.3, 'organic_results_state': 'Results for exact spelling'}, 'knowledge_graph': {'entity_type': 'related_questions'}, 'inline_videos': [{'position': 1, 'title': 'LIVE | Putin’s UNPRECEDENTED Speech Shakes The World ...', 'link': 'https://www.youtube.com/watch?v=EZqJ4PE2z2o', 'thumbnail': 'https://i.ytimg.com/vi/EZqJ4PE2z2o/mqdefault.jpg?sqp=-oaymwEFCJQBEFM&rs=AMzJL3m0Z0rEbIc3VqYtfYbSLAgvnnnetg', 'channel': 'Times Of India', 'platform': 'YouTube'}, {'position': 2, 'title': \"How the world anxiously awaits Donald Trump's new tariffs ...\", 'link': 'https://www.youtube.com/watch?v=2jlSLMbZxlA', 'thumbnail': 'https://i.ytimg.com/vi/2jlSLMbZxlA/mqdefault.jpg?sqp=-oaymwEFCJQBEFM&rs=AMzJL3mQA_ekn_8jGOR5UO6alPlRzG-P5Q', 'channel': 'DW News', 'duration': '10:20', 'platform': 'YouTube'}, {'position': 3, 'title': 'Trump privately indicates Elon Musk could step back from ...', 'link': 'https://www.youtube.com/watch?v=T_391hfxDgQ', 'thumbnail': 'https://i.ytimg.com/vi/T_391hfxDgQ/mqdefault.jpg?sqp=-oaymwEFCJQBEFM&rs=AMzJL3njDJkNqtvtGEkn_qI5oCYYF_PD_Q', 'channel': 'ABC News', 'duration': '2:44', 'platform': 'YouTube'}], 'related_questions': [{'question': 'What is the latest global news today?', 'snippet': None, 'title': 'World', 'link': 'https://edition.cnn.com/world', 'list': ['Rescuers search for survivors two days after quake kills more than 1,700 people in Myanmar and Thailand. ... ', \"Prince Harry accused of 'harassment and bullying' by charity chairwoman.\", 'Danish foreign minister scolds Trump administration for its criticism of Denmark and Greenland.'], 'displayed_link': 'https://edition.cnn.com › world', 'source_logo': 'https://serpapi.com/searches/67ed8cd2caa734ab65e16a39/images/005abd773d04d1ae77e5386f55bdc4c7f0251d42b0ee598b3e24973730f35da0.png', 'next_page_token': 'eyJvbnMiOiIxMDA0MSIsImZjIjoiRXFFQkNtSkJRUzFMVkdoa2RtSklSVEpXWVRKM1NEUlNTakZuU21KaVdEVk9XVWhOUzFSTFpuVnJXRTFEWm5rd2FVMUVTMHBGWm1KemF6VTFZMFp5WTFaZlptVnJVWGwwU1RsVGJUY3dUWFJNV2tGUGFXcExOalUyU1VsTlkzaENOWGhqV1ZGbGR4SVhNRzk2ZEZvdGRuRk1MVTkxTlU1dlVIaEpSRTk1VVhNYUlrRkRSRmhNTkc1TVRtTkNWSGxYU3pGMlMzcDFaMTl1U1VoblJrOWZXR3RWUm5jIiwiZmN2IjoiMyIsImVpIjoiMG96dFotdnFMLU91NU5vUHhJRE95UXMiLCJxYyI6IkNoaHNZWFJsYzNRZ2JtVjNjeUJwYmlCMGFHVWdkMjl5YkdRUUFERUFBQUFnLU9QQVAzMTl4RFlfIiwicXVlc3Rpb24iOiJXaGF0IGlzIHRoZSBsYXRlc3QgZ2xvYmFsIG5ld3MgdG9kYXk/IiwibGsiOiJHaVIzYUdGMElHbHpJSFJvWlNCc1lYUmxjM1FnWjJ4dlltRnNJRzVsZDNNZ2RHOWtZWGsiLCJicyI6ImM2V1FNUXJDUUJCRnNaM0tVbElOR0VXdGRMSFZYRUZzQkx2UkRObkZ6VzdZakM3Mm5zcURDQjdBZXhoU2lGWUtOcl80UEI3OEQyc1liRFFKbWhwRk0xb1NyZ1VMNjNkazBYRnNhcF9UT2VzOTFtcVlwUEVIRmxhUXRrNEszSUxpSzV4TlVUUGwxamgtS1c5ek5VajY4VHNLbHc0c1g4cmFsNHo3WXdqc0JQblVaSTJhcW9xZGNRVWExNHFpRHpiSFlBb3Q2SHpNZW5kUVdiS0lfMGhnQy1QM3MwcmZ6QmV5Qjg2UmR2NG9INGRkU1UyU1VmeVI3M2FlIiwiaWQiOiJmY18wb3p0Wi12cUwtT3U1Tm9QeElET3lRc18xIn0=', 'serpapi_link': 'https://serpapi.com/search.json?device=desktop&engine=google_related_questions&google_domain=google.com&next_page_token=eyJvbnMiOiIxMDA0MSIsImZjIjoiRXFFQkNtSkJRUzFMVkdoa2RtSklSVEpXWVRKM1NEUlNTakZuU21KaVdEVk9XVWhOUzFSTFpuVnJXRTFEWm5rd2FVMUVTMHBGWm1KemF6VTFZMFp5WTFaZlptVnJVWGwwU1RsVGJUY3dUWFJNV2tGUGFXcExOalUyU1VsTlkzaENOWGhqV1ZGbGR4SVhNRzk2ZEZvdGRuRk1MVTkxTlU1dlVIaEpSRTk1VVhNYUlrRkRSRmhNTkc1TVRtTkNWSGxYU3pGMlMzcDFaMTl1U1VoblJrOWZXR3RWUm5jIiwiZmN2IjoiMyIsImVpIjoiMG96dFotdnFMLU91NU5vUHhJRE95UXMiLCJxYyI6IkNoaHNZWFJsYzNRZ2JtVjNjeUJwYmlCMGFHVWdkMjl5YkdRUUFERUFBQUFnLU9QQVAzMTl4RFlfIiwicXVlc3Rpb24iOiJXaGF0IGlzIHRoZSBsYXRlc3QgZ2xvYmFsIG5ld3MgdG9kYXk%2FIiwibGsiOiJHaVIzYUdGMElHbHpJSFJvWlNCc1lYUmxjM1FnWjJ4dlltRnNJRzVsZDNNZ2RHOWtZWGsiLCJicyI6ImM2V1FNUXJDUUJCRnNaM0tVbElOR0VXdGRMSFZYRUZzQkx2UkRObkZ6VzdZakM3Mm5zcURDQjdBZXhoU2lGWUtOcl80UEI3OEQyc1liRFFKbWhwRk0xb1NyZ1VMNjNkazBYRnNhcF9UT2VzOTFtcVlwUEVIRmxhUXRrNEszSUxpSzV4TlVUUGwxamgtS1c5ek5VajY4VHNLbHc0c1g4cmFsNHo3WXdqc0JQblVaSTJhcW9xZGNRVWExNHFpRHpiSFlBb3Q2SHpNZW5kUVdiS0lfMGhnQy1QM3MwcmZ6QmV5Qjg2UmR2NG9INGRkU1UyU1VmeVI3M2FlIiwiaWQiOiJmY18wb3p0Wi12cUwtT3U1Tm9QeElET3lRc18xIn0%3D'}, {'question': 'What are the top 10 headlines today?', 'snippet': None, 'title': 'Fresh US tariff threat looms over purchase of Russian oil', 'link': 'https://indianexpress.com/', 'list': ['Annamalai may step down as TN chief as BJP looks for caste balance in AIADMK tie-up.', \"Yunus pitch to China: India's N-E landlocked, Bangladesh your gateway.\", \"Rajeev Chandrasekhar on Empuraan row: 'Why should I fuel Pinarayi Vijayan's controversy?'\"], 'displayed_link': None, 'source_logo': 'https://serpapi.com/searches/67ed8cd2caa734ab65e16a39/images/005abd773d04d1ae77e5386f55bdc4c77fd7c887db5857cfe02c9c2bbe592f4e.png', 'next_page_token': 'eyJvbnMiOiIxMDA0MSIsImZjIjoiRXFFQkNtSkJRUzFMVkdoa2RtSklSVEpXWVRKM1NEUlNTakZuU21KaVdEVk9XVWhOUzFSTFpuVnJXRTFEWm5rd2FVMUVTMHBGWm1KemF6VTFZMFp5WTFaZlptVnJVWGwwU1RsVGJUY3dUWFJNV2tGUGFXcExOalUyU1VsTlkzaENOWGhqV1ZGbGR4SVhNRzk2ZEZvdGRuRk1MVTkxTlU1dlVIaEpSRTk1VVhNYUlrRkRSRmhNTkc1TVRtTkNWSGxYU3pGMlMzcDFaMTl1U1VoblJrOWZXR3RWUm5jIiwiZmN2IjoiMyIsImVpIjoiMG96dFotdnFMLU91NU5vUHhJRE95UXMiLCJxYyI6IkNoaHNZWFJsYzNRZ2JtVjNjeUJwYmlCMGFHVWdkMjl5YkdRUUFERUFBQUFnLU9QQVAzMTl4RFlfIiwicXVlc3Rpb24iOiJXaGF0IGFyZSB0aGUgdG9wIDEwIGhlYWRsaW5lcyB0b2RheT8iLCJsayI6ImM1TlNMczlJTEZGSUxFcFZLTWtBNHZ3Q0JVTURoWXpVeEpTY3pMelVZcUJBU21JbEFBIiwiYnMiOiJjNldRTVFyQ1FCQkZzWjNLVWxJTkdFV3RkTEhWWEVGc0JMdlJETm5Gelc3WWpDNzJuc3FEQ0I3QWV4aFNpRllLTnJfNFBCNzhEMnNZYkRRSm1ocEZNMW9TcmdVTDYzZGswWEZzYXBfVE9lczkxbXFZcFBFSEZsYVF0azRLM0lMaUs1eE5VVFBsMWpoLUtXOXpOVWo2OFRzS2x3NHNYOHJhbDR6N1l3anNCUG5VWkkyYXFvcWRjUVVhMTRxaUR6YkhZQW90Nkh6TWVuZFFXYktJXzBoZ0MtUDNzMHJmekJleUI4NlJkdjRvSDRkZFNVMlNVZnlSNzNhZSIsImlkIjoiZmNfMG96dFotdnFMLU91NU5vUHhJRE95UXNfMSJ9', 'serpapi_link': 'https://serpapi.com/search.json?device=desktop&engine=google_related_questions&google_domain=google.com&next_page_token=eyJvbnMiOiIxMDA0MSIsImZjIjoiRXFFQkNtSkJRUzFMVkdoa2RtSklSVEpXWVRKM1NEUlNTakZuU21KaVdEVk9XVWhOUzFSTFpuVnJXRTFEWm5rd2FVMUVTMHBGWm1KemF6VTFZMFp5WTFaZlptVnJVWGwwU1RsVGJUY3dUWFJNV2tGUGFXcExOalUyU1VsTlkzaENOWGhqV1ZGbGR4SVhNRzk2ZEZvdGRuRk1MVTkxTlU1dlVIaEpSRTk1VVhNYUlrRkRSRmhNTkc1TVRtTkNWSGxYU3pGMlMzcDFaMTl1U1VoblJrOWZXR3RWUm5jIiwiZmN2IjoiMyIsImVpIjoiMG96dFotdnFMLU91NU5vUHhJRE95UXMiLCJxYyI6IkNoaHNZWFJsYzNRZ2JtVjNjeUJwYmlCMGFHVWdkMjl5YkdRUUFERUFBQUFnLU9QQVAzMTl4RFlfIiwicXVlc3Rpb24iOiJXaGF0IGFyZSB0aGUgdG9wIDEwIGhlYWRsaW5lcyB0b2RheT8iLCJsayI6ImM1TlNMczlJTEZGSUxFcFZLTWtBNHZ3Q0JVTURoWXpVeEpTY3pMelVZcUJBU21JbEFBIiwiYnMiOiJjNldRTVFyQ1FCQkZzWjNLVWxJTkdFV3RkTEhWWEVGc0JMdlJETm5Gelc3WWpDNzJuc3FEQ0I3QWV4aFNpRllLTnJfNFBCNzhEMnNZYkRRSm1ocEZNMW9TcmdVTDYzZGswWEZzYXBfVE9lczkxbXFZcFBFSEZsYVF0azRLM0lMaUs1eE5VVFBsMWpoLUtXOXpOVWo2OFRzS2x3NHNYOHJhbDR6N1l3anNCUG5VWkkyYXFvcWRjUVVhMTRxaUR6YkhZQW90Nkh6TWVuZFFXYktJXzBoZ0MtUDNzMHJmekJleUI4NlJkdjRvSDRkZFNVMlNVZnlSNzNhZSIsImlkIjoiZmNfMG96dFotdnFMLU91NU5vUHhJRE95UXNfMSJ9'}, {'question': 'What are some current events happening in the world right now?', 'snippet': None, 'title': 'World News', 'link': 'https://www.usnews.com/news/world', 'list': ['A 17-Year-Old From the West Bank Becomes the First Palestinian Teenager to Die in an Israeli Prison. ... ', \"Yemen's Houthi Rebels Claim They Shot Down Another American Drone as US Strikes Pound Country. ... \", 'Survivors of Myanmar Quake Left Without Food, Water and Shelter, Aid Groups Say.'], 'displayed_link': 'https://www.usnews.com › news › world', 'source_logo': 'https://serpapi.com/searches/67ed8cd2caa734ab65e16a39/images/005abd773d04d1ae77e5386f55bdc4c77440d558622152088c47ad2f18f26f08.png', 'next_page_token': 'eyJvbnMiOiIxMDA0MSIsImZjIjoiRXFFQkNtSkJRUzFMVkdoa2RtSklSVEpXWVRKM1NEUlNTakZuU21KaVdEVk9XVWhOUzFSTFpuVnJXRTFEWm5rd2FVMUVTMHBGWm1KemF6VTFZMFp5WTFaZlptVnJVWGwwU1RsVGJUY3dUWFJNV2tGUGFXcExOalUyU1VsTlkzaENOWGhqV1ZGbGR4SVhNRzk2ZEZvdGRuRk1MVTkxTlU1dlVIaEpSRTk1VVhNYUlrRkRSRmhNTkc1TVRtTkNWSGxYU3pGMlMzcDFaMTl1U1VoblJrOWZXR3RWUm5jIiwiZmN2IjoiMyIsImVpIjoiMG96dFotdnFMLU91NU5vUHhJRE95UXMiLCJxYyI6IkNoaHNZWFJsYzNRZ2JtVjNjeUJwYmlCMGFHVWdkMjl5YkdRUUFERUFBQUFnLU9QQVAzMTl4RFlfIiwicXVlc3Rpb24iOiJXaGF0IGFyZSBzb21lIGN1cnJlbnQgZXZlbnRzIGhhcHBlbmluZyBpbiB0aGUgd29ybGQgcmlnaHQgbm93PyIsImxrIjoiY3czRXdRMkFRQWdFd0Q1OGJTTVdRM1J6a0NoY09KVDJkUjZ6N2ExU2tDUlczTVR4Wk5JTGZQOFhWT2FrbXctWW81VG95T3RFMnRDQ1IzOCIsImJzIjoiYzZXUU1RckNRQkJGc1ozS1VsSU5HRVd0ZExIVlhFRnNCTHZSRE5uRnpXN1lqQzcybnNxRENCN0FleGhTaUZZS05yXzRQQjc4RDJzWWJEUUptaHBGTTFvU3JnVUw2M2RrMFhGc2FwX1RPZXM5MW1xWXBQRUhGbGFRdGs0SzNJTGlLNXhOVVRQbDFqaC1LVzl6TlVqNjhUc0tsdzRzWDhyYWw0ejdZd2pzQlBuVVpJMmFxb3FkY1FVYTE0cWlEemJIWUFvdDZIek1lbmRRV2JLSV8waGdDLVAzczByZnpCZXlCODZSZHY0b0g0ZGRTVTJTVWZ5UjczYWUiLCJpZCI6ImZjXzBvenRaLXZxTC1PdTVOb1B4SURPeVFzXzEifQ==', 'serpapi_link': 'https://serpapi.com/search.json?device=desktop&engine=google_related_questions&google_domain=google.com&next_page_token=eyJvbnMiOiIxMDA0MSIsImZjIjoiRXFFQkNtSkJRUzFMVkdoa2RtSklSVEpXWVRKM1NEUlNTakZuU21KaVdEVk9XVWhOUzFSTFpuVnJXRTFEWm5rd2FVMUVTMHBGWm1KemF6VTFZMFp5WTFaZlptVnJVWGwwU1RsVGJUY3dUWFJNV2tGUGFXcExOalUyU1VsTlkzaENOWGhqV1ZGbGR4SVhNRzk2ZEZvdGRuRk1MVTkxTlU1dlVIaEpSRTk1VVhNYUlrRkRSRmhNTkc1TVRtTkNWSGxYU3pGMlMzcDFaMTl1U1VoblJrOWZXR3RWUm5jIiwiZmN2IjoiMyIsImVpIjoiMG96dFotdnFMLU91NU5vUHhJRE95UXMiLCJxYyI6IkNoaHNZWFJsYzNRZ2JtVjNjeUJwYmlCMGFHVWdkMjl5YkdRUUFERUFBQUFnLU9QQVAzMTl4RFlfIiwicXVlc3Rpb24iOiJXaGF0IGFyZSBzb21lIGN1cnJlbnQgZXZlbnRzIGhhcHBlbmluZyBpbiB0aGUgd29ybGQgcmlnaHQgbm93PyIsImxrIjoiY3czRXdRMkFRQWdFd0Q1OGJTTVdRM1J6a0NoY09KVDJkUjZ6N2ExU2tDUlczTVR4Wk5JTGZQOFhWT2FrbXctWW81VG95T3RFMnRDQ1IzOCIsImJzIjoiYzZXUU1RckNRQkJGc1ozS1VsSU5HRVd0ZExIVlhFRnNCTHZSRE5uRnpXN1lqQzcybnNxRENCN0FleGhTaUZZS05yXzRQQjc4RDJzWWJEUUptaHBGTTFvU3JnVUw2M2RrMFhGc2FwX1RPZXM5MW1xWXBQRUhGbGFRdGs0SzNJTGlLNXhOVVRQbDFqaC1LVzl6TlVqNjhUc0tsdzRzWDhyYWw0ejdZd2pzQlBuVVpJMmFxb3FkY1FVYTE0cWlEemJIWUFvdDZIek1lbmRRV2JLSV8waGdDLVAzczByZnpCZXlCODZSZHY0b0g0ZGRTVTJTVWZ5UjczYWUiLCJpZCI6ImZjXzBvenRaLXZxTC1PdTVOb1B4SURPeVFzXzEifQ%3D%3D'}, {'question': 'What is the most talked about news today?', 'snippet': None, 'title': 'Top News', 'link': 'https://www.usnews.com/news/top-news', 'list': ['US Regulator OCC Withdraws Guidance to Banks for Climate-Related Financial Risk. ... ', 'With Kid Rock at His Side, Trump Signs Executive Order Targeting Ticket Scalping. ... ', 'Blue Origin Targets Late Spring for Next New Glenn Launch After FAA Probe. ... ', 'NFL-Retired Star Richard Sherman Says His House Was Robbed by Armed Intruders.'], 'displayed_link': 'https://www.usnews.com › news › top-news', 'source_logo': 'https://serpapi.com/searches/67ed8cd2caa734ab65e16a39/images/005abd773d04d1ae77e5386f55bdc4c76354efebe6d8af11edd0a1b2caa14874.png', 'next_page_token': 'eyJvbnMiOiIxMDA0MSIsImZjIjoiRXFFQkNtSkJRUzFMVkdoa2RtSklSVEpXWVRKM1NEUlNTakZuU21KaVdEVk9XVWhOUzFSTFpuVnJXRTFEWm5rd2FVMUVTMHBGWm1KemF6VTFZMFp5WTFaZlptVnJVWGwwU1RsVGJUY3dUWFJNV2tGUGFXcExOalUyU1VsTlkzaENOWGhqV1ZGbGR4SVhNRzk2ZEZvdGRuRk1MVTkxTlU1dlVIaEpSRTk1VVhNYUlrRkRSRmhNTkc1TVRtTkNWSGxYU3pGMlMzcDFaMTl1U1VoblJrOWZXR3RWUm5jIiwiZmN2IjoiMyIsImVpIjoiMG96dFotdnFMLU91NU5vUHhJRE95UXMiLCJxYyI6IkNoaHNZWFJsYzNRZ2JtVjNjeUJwYmlCMGFHVWdkMjl5YkdRUUFERUFBQUFnLU9QQVAzMTl4RFlfIiwicXVlc3Rpb24iOiJXaGF0IGlzIHRoZSBtb3N0IHRhbGtlZCBhYm91dCBuZXdzIHRvZGF5PyIsImxrIjoiR2loM2FHRjBJR2x6SUhSb1pTQnRiM04wSUhSaGJHdGxaQ0JoWW05MWRDQnVaWGR6SUhSdlpHRjUiLCJicyI6ImM2V1FNUXJDUUJCRnNaM0tVbElOR0VXdGRMSFZYRUZzQkx2UkRObkZ6VzdZakM3Mm5zcURDQjdBZXhoU2lGWUtOcl80UEI3OEQyc1liRFFKbWhwRk0xb1NyZ1VMNjNkazBYRnNhcF9UT2VzOTFtcVlwUEVIRmxhUXRrNEszSUxpSzV4TlVUUGwxamgtS1c5ek5VajY4VHNLbHc0c1g4cmFsNHo3WXdqc0JQblVaSTJhcW9xZGNRVWExNHFpRHpiSFlBb3Q2SHpNZW5kUVdiS0lfMGhnQy1QM3MwcmZ6QmV5Qjg2UmR2NG9INGRkU1UyU1VmeVI3M2FlIiwiaWQiOiJmY18wb3p0Wi12cUwtT3U1Tm9QeElET3lRc18xIn0=', 'serpapi_link': 'https://serpapi.com/search.json?device=desktop&engine=google_related_questions&google_domain=google.com&next_page_token=eyJvbnMiOiIxMDA0MSIsImZjIjoiRXFFQkNtSkJRUzFMVkdoa2RtSklSVEpXWVRKM1NEUlNTakZuU21KaVdEVk9XVWhOUzFSTFpuVnJXRTFEWm5rd2FVMUVTMHBGWm1KemF6VTFZMFp5WTFaZlptVnJVWGwwU1RsVGJUY3dUWFJNV2tGUGFXcExOalUyU1VsTlkzaENOWGhqV1ZGbGR4SVhNRzk2ZEZvdGRuRk1MVTkxTlU1dlVIaEpSRTk1VVhNYUlrRkRSRmhNTkc1TVRtTkNWSGxYU3pGMlMzcDFaMTl1U1VoblJrOWZXR3RWUm5jIiwiZmN2IjoiMyIsImVpIjoiMG96dFotdnFMLU91NU5vUHhJRE95UXMiLCJxYyI6IkNoaHNZWFJsYzNRZ2JtVjNjeUJwYmlCMGFHVWdkMjl5YkdRUUFERUFBQUFnLU9QQVAzMTl4RFlfIiwicXVlc3Rpb24iOiJXaGF0IGlzIHRoZSBtb3N0IHRhbGtlZCBhYm91dCBuZXdzIHRvZGF5PyIsImxrIjoiR2loM2FHRjBJR2x6SUhSb1pTQnRiM04wSUhSaGJHdGxaQ0JoWW05MWRDQnVaWGR6SUhSdlpHRjUiLCJicyI6ImM2V1FNUXJDUUJCRnNaM0tVbElOR0VXdGRMSFZYRUZzQkx2UkRObkZ6VzdZakM3Mm5zcURDQjdBZXhoU2lGWUtOcl80UEI3OEQyc1liRFFKbWhwRk0xb1NyZ1VMNjNkazBYRnNhcF9UT2VzOTFtcVlwUEVIRmxhUXRrNEszSUxpSzV4TlVUUGwxamgtS1c5ek5VajY4VHNLbHc0c1g4cmFsNHo3WXdqc0JQblVaSTJhcW9xZGNRVWExNHFpRHpiSFlBb3Q2SHpNZW5kUVdiS0lfMGhnQy1QM3MwcmZ6QmV5Qjg2UmR2NG9INGRkU1UyU1VmeVI3M2FlIiwiaWQiOiJmY18wb3p0Wi12cUwtT3U1Tm9QeElET3lRc18xIn0%3D'}], 'organic_results': [{'position': 1, 'title': 'World news - breaking news, video, headlines and opinion', 'link': 'https://www.cnn.com/world', 'redirect_link': 'https://www.google.com/url?sa=t&source=web&rct=j&opi=89978449&url=https://www.cnn.com/world&ved=2ahUKEwjrm63Qh7qMAxVjF1kFHUSAM7kQFnoECDIQAQ', 'displayed_link': 'https://www.cnn.com › world', 'favicon': 'https://serpapi.com/searches/67ed8cd2caa734ab65e16a39/images/a1e5f2d48cb5e598291b88bdfff01798cff16e6d023b0c62d12765cd24da488e.png', 'snippet': \"World · Two arrested as investigation into 'QatarGate' in Israel deepens · Trump accuses Ukraine's Zelensky of 'trying to back out' of proposed minerals deal.\", 'snippet_highlighted_words': [\"Two arrested as investigation into 'QatarGate' in Israel deepens\"], 'sitelinks': {'inline': [{'title': 'Impact Your World', 'link': 'https://edition.cnn.com/world/impact-your-world'}, {'title': 'Sony World Photography...', 'link': 'https://edition.cnn.com/2025/02/25/style/sony-world-photography-awards-professional-2025/index.html'}, {'title': \"World's happiest countries 2025\", 'link': 'https://www.cnn.com/travel/worlds-happiest-countries-2025-wellness/index.html'}]}, 'source': 'CNN'}, {'position': 2, 'title': 'World | Latest News & Updates', 'link': 'https://www.bbc.com/news/world', 'redirect_link': 'https://www.google.com/url?sa=t&source=web&rct=j&opi=89978449&url=https://www.bbc.com/news/world&ved=2ahUKEwjrm63Qh7qMAxVjF1kFHUSAM7kQFnoECDMQAQ', 'displayed_link': 'https://www.bbc.com › news › world', 'favicon': 'https://serpapi.com/searches/67ed8cd2caa734ab65e16a39/images/a1e5f2d48cb5e598291b88bdfff0179824154abd8473996c73264a5fae32e530.png', 'snippet': \"World · Inside Mandalay: BBC finds huge devastation and little help for Myanmar quake survivors · Three big unknowns ahead of Trump's 'Liberation Day' tariffs.\", 'snippet_highlighted_words': ['Inside Mandalay: BBC finds huge devastation and little help for Myanmar quake survivors'], 'sitelinks': {'inline': [{'title': 'BBC World News', 'link': 'https://www.bbc.com/news/world_radio_and_tv'}, {'title': 'Middle East', 'link': 'https://www.bbc.com/news/world/middle_east'}, {'title': 'Africa', 'link': 'https://www.bbc.com/news/world/africa'}, {'title': 'Europe', 'link': 'https://www.bbc.com/news/world/europe'}]}, 'source': 'BBC'}, {'position': 3, 'title': 'World News | Latest Top Stories', 'link': 'https://www.reuters.com/world/', 'redirect_link': 'https://www.google.com/url?sa=t&source=web&rct=j&opi=89978449&url=https://www.reuters.com/world/&ved=2ahUKEwjrm63Qh7qMAxVjF1kFHUSAM7kQFnoECC8QAQ', 'displayed_link': 'https://www.reuters.com › world', 'favicon': 'https://serpapi.com/searches/67ed8cd2caa734ab65e16a39/images/a1e5f2d48cb5e598291b88bdfff01798ac84368b0b93492f9b036da37cd34117.png', 'snippet': 'World · Israel to seize parts of Gaza as military operation expands · Junta chief to leave quake-striken Myanmar for summit, aid groups clamour for access.', 'snippet_highlighted_words': ['Israel to seize parts of Gaza as military operation expands'], 'sitelinks': {'inline': [{'title': 'United States', 'link': 'https://www.reuters.com/world/us/'}, {'title': 'China', 'link': 'https://www.reuters.com/world/china/'}, {'title': 'Europe', 'link': 'https://www.reuters.com/world/europe/'}, {'title': 'Middle East', 'link': 'https://www.reuters.com/world/middle-east/'}]}, 'source': 'Reuters'}, {'position': 4, 'title': 'Latest news from around the world', 'link': 'https://www.theguardian.com/world', 'redirect_link': 'https://www.google.com/url?sa=t&source=web&rct=j&opi=89978449&url=https://www.theguardian.com/world&ved=2ahUKEwjrm63Qh7qMAxVjF1kFHUSAM7kQFnoECDQQAQ', 'displayed_link': 'https://www.theguardian.com › world', 'favicon': 'https://serpapi.com/searches/67ed8cd2caa734ab65e16a39/images/a1e5f2d48cb5e598291b88bdfff01798eca50e721d755ae60db04720906526cb.png', 'snippet': \"Most viewed in world news · Israel is 'seizing territory' and will 'divide up' Gaza, Netanyahu says · Supreme court weighs South Carolina effort to defund ...\", 'snippet_highlighted_words': [\"Israel is 'seizing territory' and will 'divide up' Gaza, Netanyahu says\"], 'sitelinks': {'inline': [{'title': 'Europe', 'link': 'https://www.theguardian.com/world/europe-news'}, {'title': 'Americas', 'link': 'https://www.theguardian.com/world/americas'}, {'title': 'US', 'link': 'https://www.theguardian.com/us-news'}, {'title': 'Asia', 'link': 'https://www.theguardian.com/world/asia'}]}, 'source': 'The Guardian'}, {'position': 5, 'title': 'Breaking News, World News and Video from Al Jazeera', 'link': 'https://www.aljazeera.com/', 'redirect_link': 'https://www.google.com/url?sa=t&source=web&rct=j&opi=89978449&url=https://www.aljazeera.com/&ved=2ahUKEwjrm63Qh7qMAxVjF1kFHUSAM7kQFnoECDAQAQ', 'displayed_link': 'https://www.aljazeera.com', 'favicon': 'https://serpapi.com/searches/67ed8cd2caa734ab65e16a39/images/a1e5f2d48cb5e598291b88bdfff01798de4d44098c05bb33b094d324f3d4563e.png', 'date': '19 minutes ago', 'snippet': 'Israel kills 71 Palestinians, declares it will seize more land in Gaza · One killed, one injured in US attack in Yemen: Report · Israeli ...', 'snippet_highlighted_words': ['Israel kills 71 Palestinians, declares it will seize more land in Gaza'], 'source': 'Al Jazeera'}, {'position': 6, 'title': \"World news: Latest news, breaking news, today's ...\", 'link': 'https://www.cbsnews.com/world/', 'redirect_link': 'https://www.google.com/url?sa=t&source=web&rct=j&opi=89978449&url=https://www.cbsnews.com/world/&ved=2ahUKEwjrm63Qh7qMAxVjF1kFHUSAM7kQFnoECC0QAQ', 'displayed_link': 'https://www.cbsnews.com › World', 'favicon': 'https://serpapi.com/searches/67ed8cd2caa734ab65e16a39/images/a1e5f2d48cb5e598291b88bdfff017982ec7e93b5df255ee4f8469eace0e1e4d.png', 'snippet': 'Science · Archaeologists discover mass grave from Roman Empire-era battle · Astronauts on unexpected 9-month space mission · Icelandic volcano erupts, shutting ...', 'snippet_highlighted_words': ['Science'], 'source': 'CBS News'}, {'position': 7, 'title': 'CNN: Breaking News, Latest News and Videos', 'link': 'https://www.cnn.com/', 'redirect_link': 'https://www.google.com/url?sa=t&source=web&rct=j&opi=89978449&url=https://www.cnn.com/&ved=2ahUKEwjrm63Qh7qMAxVjF1kFHUSAM7kQFnoECDEQAQ', 'displayed_link': 'https://www.cnn.com', 'favicon': 'https://serpapi.com/searches/67ed8cd2caa734ab65e16a39/images/a1e5f2d48cb5e598291b88bdfff0179837cd0be858cc2356d001ec913a18fba2.png', 'snippet': \"Oscar-winning Palestinian director of 'No Other Land' released from Israeli detention after being assaulted · Iran readies response to Trump's offer for talks – ...\", 'snippet_highlighted_words': [\"Oscar-winning Palestinian director of 'No Other Land' released from Israeli detention\"], 'sitelinks': {'inline': [{'title': 'World', 'link': 'https://www.cnn.com/world'}, {'title': 'US', 'link': 'https://www.cnn.com/us'}, {'title': 'Politics', 'link': 'https://www.cnn.com/politics'}, {'title': 'World Cup', 'link': 'https://www.cnn.com/2025/03/06/sport/2026-world-cup-usa-travel-spt/index.html'}]}, 'source': 'CNN'}, {'position': 8, 'title': 'World News', 'link': 'https://timesofindia.indiatimes.com/world', 'redirect_link': 'https://www.google.com/url?sa=t&source=web&rct=j&opi=89978449&url=https://timesofindia.indiatimes.com/world&ved=2ahUKEwjrm63Qh7qMAxVjF1kFHUSAM7kQFnoECC4QAQ', 'displayed_link': 'https://timesofindia.indiatimes.com › world', 'favicon': 'https://serpapi.com/searches/67ed8cd2caa734ab65e16a39/images/a1e5f2d48cb5e598291b88bdfff01798b5d03732aab24a2b17cbe61268f38999.png', 'snippet': \"WORLD NEWS · Zelensky Lands In TRUMP TROUBLE As Putin 'COMPLAINS' About Bombing; Russia REJECTS U.S. · Chilling Houthi Video Shows Moment 16th U.S. MQ-9 Reaper ...\", 'snippet_highlighted_words': ['WORLD NEWS'], 'sitelinks': {'inline': [{'title': 'Rest of World News', 'link': 'https://timesofindia.indiatimes.com/world/rest-of-world'}, {'title': 'Pakistan News', 'link': 'https://timesofindia.indiatimes.com/world/pakistan'}, {'title': 'US', 'link': 'https://timesofindia.indiatimes.com/world/us'}, {'title': 'Europe News', 'link': 'https://timesofindia.indiatimes.com/world/europe'}]}, 'source': 'Times of India'}], 'top_stories': [{'title': 'Israel is ‘seizing territory’ and will ‘divide up’ Gaza, Netanyahu says', 'link': 'https://www.theguardian.com/world/2025/apr/02/israel-announces-intention-seize-large-areas-gaza-strip', 'source': 'The Guardian', 'source_logo': 'https://serpapi.com/searches/67ed8cd2caa734ab65e16a39/images/a5bb2cfc859c037ab5d473b598f1b255c3e96cf6d7728e1c4d2f818c2c4ab388.png', 'date': '8 hours ago', 'thumbnail': 'https://serpapi.com/searches/67ed8cd2caa734ab65e16a39/images/a5bb2cfc859c037a20b746e879cdec3c3a50ed0919c32a01.jpeg'}, {'title': '3-year-old discovers ancient 3,800-year-old treasure during family outing in Israel', 'link': 'https://www.nbcnews.com/news/world/israel-ancient-scarab-found-little-girl-david-goliath-rcna199226', 'source': 'NBC News', 'source_logo': 'https://serpapi.com/searches/67ed8cd2caa734ab65e16a39/images/a5bb2cfc859c037adaebeb36cc69e0a920d0aa11f9edb708947ffc8089bfeab0.png', 'date': '8 hours ago', 'thumbnail': 'https://serpapi.com/searches/67ed8cd2caa734ab65e16a39/images/a5bb2cfc859c037a5c8da28cce28926d4caf76d5b1e830a1.jpeg'}, {'title': 'Prominent Gaza family executes Hamas gunman who killed one of their relatives: report', 'link': 'https://nypost.com/2025/04/02/world-news/prominent-gaza-family-executes-hamas-gunman-who-killed-one-of-their-relatives-report/', 'source': 'New York Post', 'source_logo': 'https://serpapi.com/searches/67ed8cd2caa734ab65e16a39/images/a5bb2cfc859c037a4ecb0f637888b51a1070b18e08ca89007c1c350c01ac0dda.png', 'date': '2 hours ago', 'thumbnail': 'https://serpapi.com/searches/67ed8cd2caa734ab65e16a39/images/a5bb2cfc859c037adaf18430a0e0e4fbab62a31806dfa9fb.jpeg'}, {'title': 'Massive Myanmar earthquake reveals cracks in Bangkok’s ‘tofu buildings’', 'link': 'https://www.scmp.com/week-asia/health-environment/article/3304851/bangkok-tower-collapse-chinese-contractors-under-scrutiny-amid-tofu-building-claims', 'source': 'South China Morning Post', 'source_logo': 'https://serpapi.com/searches/67ed8cd2caa734ab65e16a39/images/a5bb2cfc859c037a66225cf6e400062e18670a7bd703083d7b91fd4fa7a6e0ee.png', 'date': '14 hours ago', 'thumbnail': 'https://serpapi.com/searches/67ed8cd2caa734ab65e16a39/images/a5bb2cfc859c037a6f4aa50e813061aa271e7f7e719c77a9.jpeg'}, {'title': 'Junta chief to leave quake-striken Myanmar for summit, aid groups clamour for access', 'link': 'https://www.reuters.com/world/asia-pacific/myanmar-junta-should-widen-access-earthquake-rescuers-aid-rights-groups-say-2025-04-02/', 'source': 'Reuters', 'source_logo': 'https://serpapi.com/searches/67ed8cd2caa734ab65e16a39/images/a5bb2cfc859c037a21db517273ba2596a47c505118f9a63e8978a6383d61388e.png', 'date': '2 hours ago', 'thumbnail': 'https://serpapi.com/searches/67ed8cd2caa734ab65e16a39/images/a5bb2cfc859c037aaab91d314be7b99a46620702a3ba6227.jpeg'}, {'title': 'Honoring the Heroes: Military identifies all 4 Fort Stewart soldiers killed in Lithuania', 'link': 'https://www.wjcl.com/article/u-s-army-soldiers-killed-identified-lithuania-1/64362992', 'source': 'WJCL', 'source_logo': 'https://serpapi.com/searches/67ed8cd2caa734ab65e16a39/images/a5bb2cfc859c037a2af09a1816b3d09aceaebe8c013af26c7200c22cf91630e4.png', 'date': '2 hours ago', 'thumbnail': 'https://serpapi.com/searches/67ed8cd2caa734ab65e16a39/images/a5bb2cfc859c037acc92baff92f2c48b8e35b6dc9968c0f4.jpeg'}], 'top_stories_link': 'https://www.google.com/search?sca_esv=6090cfeb380320de&udm=7&q=latest+news+in+the+world&sa=X&ved=2ahUKEwjrm63Qh7qMAxVjF1kFHUSAM7kQ8ccDKAR6BAhNEAY', 'top_stories_serpapi_link': 'https://serpapi.com/search.json?device=desktop&engine=google&google_domain=google.com&q=latest+news+in+the+world', 'related_searches': [{'block_position': 1, 'query': 'Latest news in the world live', 'link': 'https://www.google.com/search?sca_esv=6090cfeb380320de&q=Latest+news+in+the+world+live&sa=X&ved=2ahUKEwjrm63Qh7qMAxVjF1kFHUSAM7kQ1QJ6BAhZEAE', 'serpapi_link': 'https://serpapi.com/search.json?device=desktop&engine=google&google_domain=google.com&q=Latest+news+in+the+world+live'}, {'block_position': 1, 'query': 'Latest news in the world cnn', 'link': 'https://www.google.com/search?sca_esv=6090cfeb380320de&q=Latest+news+in+the+world+cnn&sa=X&ved=2ahUKEwjrm63Qh7qMAxVjF1kFHUSAM7kQ1QJ6BAhYEAE', 'serpapi_link': 'https://serpapi.com/search.json?device=desktop&engine=google&google_domain=google.com&q=Latest+news+in+the+world+cnn'}, {'block_position': 1, 'query': 'Breaking news today', 'link': 'https://www.google.com/search?sca_esv=6090cfeb380320de&q=Breaking+news+today&sa=X&ved=2ahUKEwjrm63Qh7qMAxVjF1kFHUSAM7kQ1QJ6BAhUEAE', 'serpapi_link': 'https://serpapi.com/search.json?device=desktop&engine=google&google_domain=google.com&q=Breaking+news+today'}, {'block_position': 1, 'query': 'Latest news headlines for today', 'link': 'https://www.google.com/search?sca_esv=6090cfeb380320de&q=Latest+news+headlines+for+today&sa=X&ved=2ahUKEwjrm63Qh7qMAxVjF1kFHUSAM7kQ1QJ6BAhWEAE', 'serpapi_link': 'https://serpapi.com/search.json?device=desktop&engine=google&google_domain=google.com&q=Latest+news+headlines+for+today'}, {'block_position': 1, 'query': 'Bbc world news', 'link': 'https://www.google.com/search?sca_esv=6090cfeb380320de&q=Bbc+world+news&sa=X&ved=2ahUKEwjrm63Qh7qMAxVjF1kFHUSAM7kQ1QJ6BAhTEAE', 'serpapi_link': 'https://serpapi.com/search.json?device=desktop&engine=google&google_domain=google.com&q=Bbc+world+news'}, {'block_position': 1, 'query': 'Bbc news', 'link': 'https://www.google.com/search?sca_esv=6090cfeb380320de&q=Bbc+news&sa=X&ved=2ahUKEwjrm63Qh7qMAxVjF1kFHUSAM7kQ1QJ6BAhXEAE', 'serpapi_link': 'https://serpapi.com/search.json?device=desktop&engine=google&google_domain=google.com&q=Bbc+news'}, {'block_position': 1, 'query': 'Fox News', 'link': 'https://www.google.com/search?sca_esv=6090cfeb380320de&q=Fox+News&sa=X&ved=2ahUKEwjrm63Qh7qMAxVjF1kFHUSAM7kQ1QJ6BAhVEAE', 'serpapi_link': 'https://serpapi.com/search.json?device=desktop&engine=google&google_domain=google.com&q=Fox+News'}, {'block_position': 1, 'query': 'World news Al Jazeera', 'link': 'https://www.google.com/search?sca_esv=6090cfeb380320de&q=World+news+Al+Jazeera&sa=X&ved=2ahUKEwjrm63Qh7qMAxVjF1kFHUSAM7kQ1QJ6BAhSEAE', 'serpapi_link': 'https://serpapi.com/search.json?device=desktop&engine=google&google_domain=google.com&q=World+news+Al+Jazeera'}], 'pagination': {'current': 1, 'next': 'https://www.google.com/search?q=latest+news+in+the+world&sca_esv=6090cfeb380320de&ei=0oztZ-vqL-Ou5NoPxIDOyQs&start=10&sa=N&sstk=Af40H4XBecBagXmUlhGm68KY7t_SEBUeXhaHKcDWUwY11ssz6DNp_m4HWvpmpP5UigIuEJNT0jP5JeAaa0xY8LZWvfNjCJqFOfncEg&ved=2ahUKEwjrm63Qh7qMAxVjF1kFHUSAM7kQ8NMDegQIChAW', 'other_pages': {'2': 'https://www.google.com/search?q=latest+news+in+the+world&sca_esv=6090cfeb380320de&ei=0oztZ-vqL-Ou5NoPxIDOyQs&start=10&sa=N&sstk=Af40H4XBecBagXmUlhGm68KY7t_SEBUeXhaHKcDWUwY11ssz6DNp_m4HWvpmpP5UigIuEJNT0jP5JeAaa0xY8LZWvfNjCJqFOfncEg&ved=2ahUKEwjrm63Qh7qMAxVjF1kFHUSAM7kQ8tMDegQIChAE', '3': 'https://www.google.com/search?q=latest+news+in+the+world&sca_esv=6090cfeb380320de&ei=0oztZ-vqL-Ou5NoPxIDOyQs&start=20&sa=N&sstk=Af40H4XBecBagXmUlhGm68KY7t_SEBUeXhaHKcDWUwY11ssz6DNp_m4HWvpmpP5UigIuEJNT0jP5JeAaa0xY8LZWvfNjCJqFOfncEg&ved=2ahUKEwjrm63Qh7qMAxVjF1kFHUSAM7kQ8tMDegQIChAG', '4': 'https://www.google.com/search?q=latest+news+in+the+world&sca_esv=6090cfeb380320de&ei=0oztZ-vqL-Ou5NoPxIDOyQs&start=30&sa=N&sstk=Af40H4XBecBagXmUlhGm68KY7t_SEBUeXhaHKcDWUwY11ssz6DNp_m4HWvpmpP5UigIuEJNT0jP5JeAaa0xY8LZWvfNjCJqFOfncEg&ved=2ahUKEwjrm63Qh7qMAxVjF1kFHUSAM7kQ8tMDegQIChAI', '5': 'https://www.google.com/search?q=latest+news+in+the+world&sca_esv=6090cfeb380320de&ei=0oztZ-vqL-Ou5NoPxIDOyQs&start=40&sa=N&sstk=Af40H4XBecBagXmUlhGm68KY7t_SEBUeXhaHKcDWUwY11ssz6DNp_m4HWvpmpP5UigIuEJNT0jP5JeAaa0xY8LZWvfNjCJqFOfncEg&ved=2ahUKEwjrm63Qh7qMAxVjF1kFHUSAM7kQ8tMDegQIChAK', '6': 'https://www.google.com/search?q=latest+news+in+the+world&sca_esv=6090cfeb380320de&ei=0oztZ-vqL-Ou5NoPxIDOyQs&start=50&sa=N&sstk=Af40H4XBecBagXmUlhGm68KY7t_SEBUeXhaHKcDWUwY11ssz6DNp_m4HWvpmpP5UigIuEJNT0jP5JeAaa0xY8LZWvfNjCJqFOfncEg&ved=2ahUKEwjrm63Qh7qMAxVjF1kFHUSAM7kQ8tMDegQIChAM', '7': 'https://www.google.com/search?q=latest+news+in+the+world&sca_esv=6090cfeb380320de&ei=0oztZ-vqL-Ou5NoPxIDOyQs&start=60&sa=N&sstk=Af40H4XBecBagXmUlhGm68KY7t_SEBUeXhaHKcDWUwY11ssz6DNp_m4HWvpmpP5UigIuEJNT0jP5JeAaa0xY8LZWvfNjCJqFOfncEg&ved=2ahUKEwjrm63Qh7qMAxVjF1kFHUSAM7kQ8tMDegQIChAO', '8': 'https://www.google.com/search?q=latest+news+in+the+world&sca_esv=6090cfeb380320de&ei=0oztZ-vqL-Ou5NoPxIDOyQs&start=70&sa=N&sstk=Af40H4XBecBagXmUlhGm68KY7t_SEBUeXhaHKcDWUwY11ssz6DNp_m4HWvpmpP5UigIuEJNT0jP5JeAaa0xY8LZWvfNjCJqFOfncEg&ved=2ahUKEwjrm63Qh7qMAxVjF1kFHUSAM7kQ8tMDegQIChAQ', '9': 'https://www.google.com/search?q=latest+news+in+the+world&sca_esv=6090cfeb380320de&ei=0oztZ-vqL-Ou5NoPxIDOyQs&start=80&sa=N&sstk=Af40H4XBecBagXmUlhGm68KY7t_SEBUeXhaHKcDWUwY11ssz6DNp_m4HWvpmpP5UigIuEJNT0jP5JeAaa0xY8LZWvfNjCJqFOfncEg&ved=2ahUKEwjrm63Qh7qMAxVjF1kFHUSAM7kQ8tMDegQIChAS', '10': 'https://www.google.com/search?q=latest+news+in+the+world&sca_esv=6090cfeb380320de&ei=0oztZ-vqL-Ou5NoPxIDOyQs&start=90&sa=N&sstk=Af40H4XBecBagXmUlhGm68KY7t_SEBUeXhaHKcDWUwY11ssz6DNp_m4HWvpmpP5UigIuEJNT0jP5JeAaa0xY8LZWvfNjCJqFOfncEg&ved=2ahUKEwjrm63Qh7qMAxVjF1kFHUSAM7kQ8tMDegQIChAU'}}, 'serpapi_pagination': {'current': 1, 'next_link': 'https://serpapi.com/search.json?device=desktop&engine=google&google_domain=google.com&q=latest+news+in+the+world&start=10', 'next': 'https://serpapi.com/search.json?device=desktop&engine=google&google_domain=google.com&q=latest+news+in+the+world&start=10', 'other_pages': {'2': 'https://serpapi.com/search.json?device=desktop&engine=google&google_domain=google.com&q=latest+news+in+the+world&start=10', '3': 'https://serpapi.com/search.json?device=desktop&engine=google&google_domain=google.com&q=latest+news+in+the+world&start=20', '4': 'https://serpapi.com/search.json?device=desktop&engine=google&google_domain=google.com&q=latest+news+in+the+world&start=30', '5': 'https://serpapi.com/search.json?device=desktop&engine=google&google_domain=google.com&q=latest+news+in+the+world&start=40', '6': 'https://serpapi.com/search.json?device=desktop&engine=google&google_domain=google.com&q=latest+news+in+the+world&start=50', '7': 'https://serpapi.com/search.json?device=desktop&engine=google&google_domain=google.com&q=latest+news+in+the+world&start=60', '8': 'https://serpapi.com/search.json?device=desktop&engine=google&google_domain=google.com&q=latest+news+in+the+world&start=70', '9': 'https://serpapi.com/search.json?device=desktop&engine=google&google_domain=google.com&q=latest+news+in+the+world&start=80', '10': 'https://serpapi.com/search.json?device=desktop&engine=google&google_domain=google.com&q=latest+news+in+the+world&start=90'}}}\n"
     ]
    }
   ],
   "source": [
    "from serpapi import GoogleSearch\n",
    "from getpass import getpass\n",
    "\n",
    "SERPAPI_API_KEY = getpass(\"Enter your SerpAPI API key: \")\n",
    "\n",
    "params = {\n",
    "    \"api_key\": SERPAPI_API_KEY,\n",
    "    \"engine\": \"google\",\n",
    "    \"q\": \"latest news in the world\",\n",
    "}\n",
    "\n",
    "search = GoogleSearch(params)\n",
    "results = search.get_dict()\n",
    "\n",
    "print(results)"
   ]
  },
  {
   "cell_type": "markdown",
   "metadata": {},
   "source": [
    "Our results are provided in the `\"organic_results\"` key:"
   ]
  },
  {
   "cell_type": "code",
   "execution_count": 3,
   "metadata": {},
   "outputs": [
    {
     "data": {
      "text/plain": [
       "[{'position': 1,\n",
       "  'title': 'World news - breaking news, video, headlines and opinion',\n",
       "  'link': 'https://www.cnn.com/world',\n",
       "  'redirect_link': 'https://www.google.com/url?sa=t&source=web&rct=j&opi=89978449&url=https://www.cnn.com/world&ved=2ahUKEwjrm63Qh7qMAxVjF1kFHUSAM7kQFnoECDIQAQ',\n",
       "  'displayed_link': 'https://www.cnn.com › world',\n",
       "  'favicon': 'https://serpapi.com/searches/67ed8cd2caa734ab65e16a39/images/a1e5f2d48cb5e598291b88bdfff01798cff16e6d023b0c62d12765cd24da488e.png',\n",
       "  'snippet': \"World · Two arrested as investigation into 'QatarGate' in Israel deepens · Trump accuses Ukraine's Zelensky of 'trying to back out' of proposed minerals deal.\",\n",
       "  'snippet_highlighted_words': [\"Two arrested as investigation into 'QatarGate' in Israel deepens\"],\n",
       "  'sitelinks': {'inline': [{'title': 'Impact Your World',\n",
       "     'link': 'https://edition.cnn.com/world/impact-your-world'},\n",
       "    {'title': 'Sony World Photography...',\n",
       "     'link': 'https://edition.cnn.com/2025/02/25/style/sony-world-photography-awards-professional-2025/index.html'},\n",
       "    {'title': \"World's happiest countries 2025\",\n",
       "     'link': 'https://www.cnn.com/travel/worlds-happiest-countries-2025-wellness/index.html'}]},\n",
       "  'source': 'CNN'},\n",
       " {'position': 2,\n",
       "  'title': 'World | Latest News & Updates',\n",
       "  'link': 'https://www.bbc.com/news/world',\n",
       "  'redirect_link': 'https://www.google.com/url?sa=t&source=web&rct=j&opi=89978449&url=https://www.bbc.com/news/world&ved=2ahUKEwjrm63Qh7qMAxVjF1kFHUSAM7kQFnoECDMQAQ',\n",
       "  'displayed_link': 'https://www.bbc.com › news › world',\n",
       "  'favicon': 'https://serpapi.com/searches/67ed8cd2caa734ab65e16a39/images/a1e5f2d48cb5e598291b88bdfff0179824154abd8473996c73264a5fae32e530.png',\n",
       "  'snippet': \"World · Inside Mandalay: BBC finds huge devastation and little help for Myanmar quake survivors · Three big unknowns ahead of Trump's 'Liberation Day' tariffs.\",\n",
       "  'snippet_highlighted_words': ['Inside Mandalay: BBC finds huge devastation and little help for Myanmar quake survivors'],\n",
       "  'sitelinks': {'inline': [{'title': 'BBC World News',\n",
       "     'link': 'https://www.bbc.com/news/world_radio_and_tv'},\n",
       "    {'title': 'Middle East',\n",
       "     'link': 'https://www.bbc.com/news/world/middle_east'},\n",
       "    {'title': 'Africa', 'link': 'https://www.bbc.com/news/world/africa'},\n",
       "    {'title': 'Europe', 'link': 'https://www.bbc.com/news/world/europe'}]},\n",
       "  'source': 'BBC'},\n",
       " {'position': 3,\n",
       "  'title': 'World News | Latest Top Stories',\n",
       "  'link': 'https://www.reuters.com/world/',\n",
       "  'redirect_link': 'https://www.google.com/url?sa=t&source=web&rct=j&opi=89978449&url=https://www.reuters.com/world/&ved=2ahUKEwjrm63Qh7qMAxVjF1kFHUSAM7kQFnoECC8QAQ',\n",
       "  'displayed_link': 'https://www.reuters.com › world',\n",
       "  'favicon': 'https://serpapi.com/searches/67ed8cd2caa734ab65e16a39/images/a1e5f2d48cb5e598291b88bdfff01798ac84368b0b93492f9b036da37cd34117.png',\n",
       "  'snippet': 'World · Israel to seize parts of Gaza as military operation expands · Junta chief to leave quake-striken Myanmar for summit, aid groups clamour for access.',\n",
       "  'snippet_highlighted_words': ['Israel to seize parts of Gaza as military operation expands'],\n",
       "  'sitelinks': {'inline': [{'title': 'United States',\n",
       "     'link': 'https://www.reuters.com/world/us/'},\n",
       "    {'title': 'China', 'link': 'https://www.reuters.com/world/china/'},\n",
       "    {'title': 'Europe', 'link': 'https://www.reuters.com/world/europe/'},\n",
       "    {'title': 'Middle East',\n",
       "     'link': 'https://www.reuters.com/world/middle-east/'}]},\n",
       "  'source': 'Reuters'},\n",
       " {'position': 4,\n",
       "  'title': 'Latest news from around the world',\n",
       "  'link': 'https://www.theguardian.com/world',\n",
       "  'redirect_link': 'https://www.google.com/url?sa=t&source=web&rct=j&opi=89978449&url=https://www.theguardian.com/world&ved=2ahUKEwjrm63Qh7qMAxVjF1kFHUSAM7kQFnoECDQQAQ',\n",
       "  'displayed_link': 'https://www.theguardian.com › world',\n",
       "  'favicon': 'https://serpapi.com/searches/67ed8cd2caa734ab65e16a39/images/a1e5f2d48cb5e598291b88bdfff01798eca50e721d755ae60db04720906526cb.png',\n",
       "  'snippet': \"Most viewed in world news · Israel is 'seizing territory' and will 'divide up' Gaza, Netanyahu says · Supreme court weighs South Carolina effort to defund ...\",\n",
       "  'snippet_highlighted_words': [\"Israel is 'seizing territory' and will 'divide up' Gaza, Netanyahu says\"],\n",
       "  'sitelinks': {'inline': [{'title': 'Europe',\n",
       "     'link': 'https://www.theguardian.com/world/europe-news'},\n",
       "    {'title': 'Americas',\n",
       "     'link': 'https://www.theguardian.com/world/americas'},\n",
       "    {'title': 'US', 'link': 'https://www.theguardian.com/us-news'},\n",
       "    {'title': 'Asia', 'link': 'https://www.theguardian.com/world/asia'}]},\n",
       "  'source': 'The Guardian'},\n",
       " {'position': 5,\n",
       "  'title': 'Breaking News, World News and Video from Al Jazeera',\n",
       "  'link': 'https://www.aljazeera.com/',\n",
       "  'redirect_link': 'https://www.google.com/url?sa=t&source=web&rct=j&opi=89978449&url=https://www.aljazeera.com/&ved=2ahUKEwjrm63Qh7qMAxVjF1kFHUSAM7kQFnoECDAQAQ',\n",
       "  'displayed_link': 'https://www.aljazeera.com',\n",
       "  'favicon': 'https://serpapi.com/searches/67ed8cd2caa734ab65e16a39/images/a1e5f2d48cb5e598291b88bdfff01798de4d44098c05bb33b094d324f3d4563e.png',\n",
       "  'date': '19 minutes ago',\n",
       "  'snippet': 'Israel kills 71 Palestinians, declares it will seize more land in Gaza · One killed, one injured in US attack in Yemen: Report · Israeli ...',\n",
       "  'snippet_highlighted_words': ['Israel kills 71 Palestinians, declares it will seize more land in Gaza'],\n",
       "  'source': 'Al Jazeera'},\n",
       " {'position': 6,\n",
       "  'title': \"World news: Latest news, breaking news, today's ...\",\n",
       "  'link': 'https://www.cbsnews.com/world/',\n",
       "  'redirect_link': 'https://www.google.com/url?sa=t&source=web&rct=j&opi=89978449&url=https://www.cbsnews.com/world/&ved=2ahUKEwjrm63Qh7qMAxVjF1kFHUSAM7kQFnoECC0QAQ',\n",
       "  'displayed_link': 'https://www.cbsnews.com › World',\n",
       "  'favicon': 'https://serpapi.com/searches/67ed8cd2caa734ab65e16a39/images/a1e5f2d48cb5e598291b88bdfff017982ec7e93b5df255ee4f8469eace0e1e4d.png',\n",
       "  'snippet': 'Science · Archaeologists discover mass grave from Roman Empire-era battle · Astronauts on unexpected 9-month space mission · Icelandic volcano erupts, shutting ...',\n",
       "  'snippet_highlighted_words': ['Science'],\n",
       "  'source': 'CBS News'},\n",
       " {'position': 7,\n",
       "  'title': 'CNN: Breaking News, Latest News and Videos',\n",
       "  'link': 'https://www.cnn.com/',\n",
       "  'redirect_link': 'https://www.google.com/url?sa=t&source=web&rct=j&opi=89978449&url=https://www.cnn.com/&ved=2ahUKEwjrm63Qh7qMAxVjF1kFHUSAM7kQFnoECDEQAQ',\n",
       "  'displayed_link': 'https://www.cnn.com',\n",
       "  'favicon': 'https://serpapi.com/searches/67ed8cd2caa734ab65e16a39/images/a1e5f2d48cb5e598291b88bdfff0179837cd0be858cc2356d001ec913a18fba2.png',\n",
       "  'snippet': \"Oscar-winning Palestinian director of 'No Other Land' released from Israeli detention after being assaulted · Iran readies response to Trump's offer for talks – ...\",\n",
       "  'snippet_highlighted_words': [\"Oscar-winning Palestinian director of 'No Other Land' released from Israeli detention\"],\n",
       "  'sitelinks': {'inline': [{'title': 'World',\n",
       "     'link': 'https://www.cnn.com/world'},\n",
       "    {'title': 'US', 'link': 'https://www.cnn.com/us'},\n",
       "    {'title': 'Politics', 'link': 'https://www.cnn.com/politics'},\n",
       "    {'title': 'World Cup',\n",
       "     'link': 'https://www.cnn.com/2025/03/06/sport/2026-world-cup-usa-travel-spt/index.html'}]},\n",
       "  'source': 'CNN'},\n",
       " {'position': 8,\n",
       "  'title': 'World News',\n",
       "  'link': 'https://timesofindia.indiatimes.com/world',\n",
       "  'redirect_link': 'https://www.google.com/url?sa=t&source=web&rct=j&opi=89978449&url=https://timesofindia.indiatimes.com/world&ved=2ahUKEwjrm63Qh7qMAxVjF1kFHUSAM7kQFnoECC4QAQ',\n",
       "  'displayed_link': 'https://timesofindia.indiatimes.com › world',\n",
       "  'favicon': 'https://serpapi.com/searches/67ed8cd2caa734ab65e16a39/images/a1e5f2d48cb5e598291b88bdfff01798b5d03732aab24a2b17cbe61268f38999.png',\n",
       "  'snippet': \"WORLD NEWS · Zelensky Lands In TRUMP TROUBLE As Putin 'COMPLAINS' About Bombing; Russia REJECTS U.S. · Chilling Houthi Video Shows Moment 16th U.S. MQ-9 Reaper ...\",\n",
       "  'snippet_highlighted_words': ['WORLD NEWS'],\n",
       "  'sitelinks': {'inline': [{'title': 'Rest of World News',\n",
       "     'link': 'https://timesofindia.indiatimes.com/world/rest-of-world'},\n",
       "    {'title': 'Pakistan News',\n",
       "     'link': 'https://timesofindia.indiatimes.com/world/pakistan'},\n",
       "    {'title': 'US', 'link': 'https://timesofindia.indiatimes.com/world/us'},\n",
       "    {'title': 'Europe News',\n",
       "     'link': 'https://timesofindia.indiatimes.com/world/europe'}]},\n",
       "  'source': 'Times of India'}]"
      ]
     },
     "execution_count": 3,
     "metadata": {},
     "output_type": "execute_result"
    }
   ],
   "source": [
    "results[\"organic_results\"]"
   ]
  },
  {
   "cell_type": "markdown",
   "metadata": {},
   "source": [
    "We reformat this to extract only the most relevant information, such as the the title, source, link, and snippet. Let's use pydantic `BaseModel` to define this structure."
   ]
  },
  {
   "cell_type": "code",
   "execution_count": 4,
   "metadata": {},
   "outputs": [],
   "source": [
    "from pydantic import BaseModel\n",
    "\n",
    "class Article(BaseModel):\n",
    "    title: str\n",
    "    source: str\n",
    "    link: str\n",
    "    snippet: str\n",
    "\n",
    "    @classmethod\n",
    "    def from_serpapi_result(cls, result: dict) -> \"Article\":\n",
    "        return cls(\n",
    "            title=result[\"title\"],\n",
    "            source=result[\"source\"],\n",
    "            link=result[\"link\"],\n",
    "            snippet=result[\"snippet\"],\n",
    "        )"
   ]
  },
  {
   "cell_type": "code",
   "execution_count": 5,
   "metadata": {},
   "outputs": [],
   "source": [
    "articles = [Article.from_serpapi_result(result) for result in results[\"organic_results\"]]"
   ]
  },
  {
   "cell_type": "markdown",
   "metadata": {},
   "source": [
    "## Using Async"
   ]
  },
  {
   "cell_type": "markdown",
   "metadata": {},
   "source": [
    "All of this works, but it unfortunately is not async and the SerpAPI SDK does not support async either, so we much query the API directly using the `aiohttp` library."
   ]
  },
  {
   "cell_type": "code",
   "execution_count": 6,
   "metadata": {},
   "outputs": [
    {
     "data": {
      "text/plain": [
       "[{'position': 1,\n",
       "  'title': 'World news - breaking news, video, headlines and opinion',\n",
       "  'link': 'https://www.cnn.com/world',\n",
       "  'redirect_link': 'https://www.google.com/url?sa=t&source=web&rct=j&opi=89978449&url=https://www.cnn.com/world&ved=2ahUKEwjrm63Qh7qMAxVjF1kFHUSAM7kQFnoECDIQAQ',\n",
       "  'displayed_link': 'https://www.cnn.com › world',\n",
       "  'favicon': 'https://serpapi.com/searches/67ed8cd2caa734ab65e16a39/images/a1e5f2d48cb5e598291b88bdfff01798cff16e6d023b0c62d12765cd24da488e.png',\n",
       "  'snippet': \"World · Two arrested as investigation into 'QatarGate' in Israel deepens · Trump accuses Ukraine's Zelensky of 'trying to back out' of proposed minerals deal.\",\n",
       "  'snippet_highlighted_words': [\"Two arrested as investigation into 'QatarGate' in Israel deepens\"],\n",
       "  'sitelinks': {'inline': [{'title': 'Impact Your World',\n",
       "     'link': 'https://edition.cnn.com/world/impact-your-world'},\n",
       "    {'title': 'Sony World Photography...',\n",
       "     'link': 'https://edition.cnn.com/2025/02/25/style/sony-world-photography-awards-professional-2025/index.html'},\n",
       "    {'title': \"World's happiest countries 2025\",\n",
       "     'link': 'https://www.cnn.com/travel/worlds-happiest-countries-2025-wellness/index.html'}]},\n",
       "  'source': 'CNN'},\n",
       " {'position': 2,\n",
       "  'title': 'World | Latest News & Updates',\n",
       "  'link': 'https://www.bbc.com/news/world',\n",
       "  'redirect_link': 'https://www.google.com/url?sa=t&source=web&rct=j&opi=89978449&url=https://www.bbc.com/news/world&ved=2ahUKEwjrm63Qh7qMAxVjF1kFHUSAM7kQFnoECDMQAQ',\n",
       "  'displayed_link': 'https://www.bbc.com › news › world',\n",
       "  'favicon': 'https://serpapi.com/searches/67ed8cd2caa734ab65e16a39/images/a1e5f2d48cb5e598291b88bdfff0179824154abd8473996c73264a5fae32e530.png',\n",
       "  'snippet': \"World · Inside Mandalay: BBC finds huge devastation and little help for Myanmar quake survivors · Three big unknowns ahead of Trump's 'Liberation Day' tariffs.\",\n",
       "  'snippet_highlighted_words': ['Inside Mandalay: BBC finds huge devastation and little help for Myanmar quake survivors'],\n",
       "  'sitelinks': {'inline': [{'title': 'BBC World News',\n",
       "     'link': 'https://www.bbc.com/news/world_radio_and_tv'},\n",
       "    {'title': 'Middle East',\n",
       "     'link': 'https://www.bbc.com/news/world/middle_east'},\n",
       "    {'title': 'Africa', 'link': 'https://www.bbc.com/news/world/africa'},\n",
       "    {'title': 'Europe', 'link': 'https://www.bbc.com/news/world/europe'}]},\n",
       "  'source': 'BBC'},\n",
       " {'position': 3,\n",
       "  'title': 'World News | Latest Top Stories',\n",
       "  'link': 'https://www.reuters.com/world/',\n",
       "  'redirect_link': 'https://www.google.com/url?sa=t&source=web&rct=j&opi=89978449&url=https://www.reuters.com/world/&ved=2ahUKEwjrm63Qh7qMAxVjF1kFHUSAM7kQFnoECC8QAQ',\n",
       "  'displayed_link': 'https://www.reuters.com › world',\n",
       "  'favicon': 'https://serpapi.com/searches/67ed8cd2caa734ab65e16a39/images/a1e5f2d48cb5e598291b88bdfff01798ac84368b0b93492f9b036da37cd34117.png',\n",
       "  'snippet': 'World · Israel to seize parts of Gaza as military operation expands · Junta chief to leave quake-striken Myanmar for summit, aid groups clamour for access.',\n",
       "  'snippet_highlighted_words': ['Israel to seize parts of Gaza as military operation expands'],\n",
       "  'sitelinks': {'inline': [{'title': 'United States',\n",
       "     'link': 'https://www.reuters.com/world/us/'},\n",
       "    {'title': 'China', 'link': 'https://www.reuters.com/world/china/'},\n",
       "    {'title': 'Europe', 'link': 'https://www.reuters.com/world/europe/'},\n",
       "    {'title': 'Middle East',\n",
       "     'link': 'https://www.reuters.com/world/middle-east/'}]},\n",
       "  'source': 'Reuters'},\n",
       " {'position': 4,\n",
       "  'title': 'Latest news from around the world',\n",
       "  'link': 'https://www.theguardian.com/world',\n",
       "  'redirect_link': 'https://www.google.com/url?sa=t&source=web&rct=j&opi=89978449&url=https://www.theguardian.com/world&ved=2ahUKEwjrm63Qh7qMAxVjF1kFHUSAM7kQFnoECDQQAQ',\n",
       "  'displayed_link': 'https://www.theguardian.com › world',\n",
       "  'favicon': 'https://serpapi.com/searches/67ed8cd2caa734ab65e16a39/images/a1e5f2d48cb5e598291b88bdfff01798eca50e721d755ae60db04720906526cb.png',\n",
       "  'snippet': \"Most viewed in world news · Israel is 'seizing territory' and will 'divide up' Gaza, Netanyahu says · Supreme court weighs South Carolina effort to defund ...\",\n",
       "  'snippet_highlighted_words': [\"Israel is 'seizing territory' and will 'divide up' Gaza, Netanyahu says\"],\n",
       "  'sitelinks': {'inline': [{'title': 'Europe',\n",
       "     'link': 'https://www.theguardian.com/world/europe-news'},\n",
       "    {'title': 'Americas',\n",
       "     'link': 'https://www.theguardian.com/world/americas'},\n",
       "    {'title': 'US', 'link': 'https://www.theguardian.com/us-news'},\n",
       "    {'title': 'Asia', 'link': 'https://www.theguardian.com/world/asia'}]},\n",
       "  'source': 'The Guardian'},\n",
       " {'position': 5,\n",
       "  'title': 'Breaking News, World News and Video from Al Jazeera',\n",
       "  'link': 'https://www.aljazeera.com/',\n",
       "  'redirect_link': 'https://www.google.com/url?sa=t&source=web&rct=j&opi=89978449&url=https://www.aljazeera.com/&ved=2ahUKEwjrm63Qh7qMAxVjF1kFHUSAM7kQFnoECDAQAQ',\n",
       "  'displayed_link': 'https://www.aljazeera.com',\n",
       "  'favicon': 'https://serpapi.com/searches/67ed8cd2caa734ab65e16a39/images/a1e5f2d48cb5e598291b88bdfff01798de4d44098c05bb33b094d324f3d4563e.png',\n",
       "  'date': '19 minutes ago',\n",
       "  'snippet': 'Israel kills 71 Palestinians, declares it will seize more land in Gaza · One killed, one injured in US attack in Yemen: Report · Israeli ...',\n",
       "  'snippet_highlighted_words': ['Israel kills 71 Palestinians, declares it will seize more land in Gaza'],\n",
       "  'source': 'Al Jazeera'},\n",
       " {'position': 6,\n",
       "  'title': \"World news: Latest news, breaking news, today's ...\",\n",
       "  'link': 'https://www.cbsnews.com/world/',\n",
       "  'redirect_link': 'https://www.google.com/url?sa=t&source=web&rct=j&opi=89978449&url=https://www.cbsnews.com/world/&ved=2ahUKEwjrm63Qh7qMAxVjF1kFHUSAM7kQFnoECC0QAQ',\n",
       "  'displayed_link': 'https://www.cbsnews.com › World',\n",
       "  'favicon': 'https://serpapi.com/searches/67ed8cd2caa734ab65e16a39/images/a1e5f2d48cb5e598291b88bdfff017982ec7e93b5df255ee4f8469eace0e1e4d.png',\n",
       "  'snippet': 'Science · Archaeologists discover mass grave from Roman Empire-era battle · Astronauts on unexpected 9-month space mission · Icelandic volcano erupts, shutting ...',\n",
       "  'snippet_highlighted_words': ['Science'],\n",
       "  'source': 'CBS News'},\n",
       " {'position': 7,\n",
       "  'title': 'CNN: Breaking News, Latest News and Videos',\n",
       "  'link': 'https://www.cnn.com/',\n",
       "  'redirect_link': 'https://www.google.com/url?sa=t&source=web&rct=j&opi=89978449&url=https://www.cnn.com/&ved=2ahUKEwjrm63Qh7qMAxVjF1kFHUSAM7kQFnoECDEQAQ',\n",
       "  'displayed_link': 'https://www.cnn.com',\n",
       "  'favicon': 'https://serpapi.com/searches/67ed8cd2caa734ab65e16a39/images/a1e5f2d48cb5e598291b88bdfff0179837cd0be858cc2356d001ec913a18fba2.png',\n",
       "  'snippet': \"Oscar-winning Palestinian director of 'No Other Land' released from Israeli detention after being assaulted · Iran readies response to Trump's offer for talks – ...\",\n",
       "  'snippet_highlighted_words': [\"Oscar-winning Palestinian director of 'No Other Land' released from Israeli detention\"],\n",
       "  'sitelinks': {'inline': [{'title': 'World',\n",
       "     'link': 'https://www.cnn.com/world'},\n",
       "    {'title': 'US', 'link': 'https://www.cnn.com/us'},\n",
       "    {'title': 'Politics', 'link': 'https://www.cnn.com/politics'},\n",
       "    {'title': 'World Cup',\n",
       "     'link': 'https://www.cnn.com/2025/03/06/sport/2026-world-cup-usa-travel-spt/index.html'}]},\n",
       "  'source': 'CNN'},\n",
       " {'position': 8,\n",
       "  'title': 'World News',\n",
       "  'link': 'https://timesofindia.indiatimes.com/world',\n",
       "  'redirect_link': 'https://www.google.com/url?sa=t&source=web&rct=j&opi=89978449&url=https://timesofindia.indiatimes.com/world&ved=2ahUKEwjrm63Qh7qMAxVjF1kFHUSAM7kQFnoECC4QAQ',\n",
       "  'displayed_link': 'https://timesofindia.indiatimes.com › world',\n",
       "  'favicon': 'https://serpapi.com/searches/67ed8cd2caa734ab65e16a39/images/a1e5f2d48cb5e598291b88bdfff01798b5d03732aab24a2b17cbe61268f38999.png',\n",
       "  'snippet': \"WORLD NEWS · Zelensky Lands In TRUMP TROUBLE As Putin 'COMPLAINS' About Bombing; Russia REJECTS U.S. · Chilling Houthi Video Shows Moment 16th U.S. MQ-9 Reaper ...\",\n",
       "  'snippet_highlighted_words': ['WORLD NEWS'],\n",
       "  'sitelinks': {'inline': [{'title': 'Rest of World News',\n",
       "     'link': 'https://timesofindia.indiatimes.com/world/rest-of-world'},\n",
       "    {'title': 'Pakistan News',\n",
       "     'link': 'https://timesofindia.indiatimes.com/world/pakistan'},\n",
       "    {'title': 'US', 'link': 'https://timesofindia.indiatimes.com/world/us'},\n",
       "    {'title': 'Europe News',\n",
       "     'link': 'https://timesofindia.indiatimes.com/world/europe'}]},\n",
       "  'source': 'Times of India'}]"
      ]
     },
     "execution_count": 6,
     "metadata": {},
     "output_type": "execute_result"
    }
   ],
   "source": [
    "import aiohttp\n",
    "\n",
    "async with aiohttp.ClientSession() as session:\n",
    "    async with session.get(\n",
    "        \"https://serpapi.com/search\",\n",
    "        params=params\n",
    "    ) as response:\n",
    "        results = await response.json()\n",
    "\n",
    "results[\"organic_results\"]"
   ]
  },
  {
   "cell_type": "markdown",
   "metadata": {},
   "source": [
    "With that, we have all we need to build a fully async serpapi tool."
   ]
  },
  {
   "cell_type": "code",
   "execution_count": 7,
   "metadata": {},
   "outputs": [],
   "source": [
    "from langchain_core.tools import tool\n",
    "\n",
    "@tool\n",
    "async def serpapi(query: str) -> list[Article]:\n",
    "    \"\"\"Use this tool to search the web.\"\"\"\n",
    "    params = {\n",
    "        \"api_key\": SERPAPI_API_KEY,\n",
    "        \"engine\": \"google\",\n",
    "        \"q\": query,\n",
    "    }\n",
    "    async with aiohttp.ClientSession() as session:\n",
    "        async with session.get(\n",
    "            \"https://serpapi.com/search\",\n",
    "            params=params\n",
    "        ) as response:\n",
    "            results = await response.json()\n",
    "    return [Article.from_serpapi_result(result) for result in results[\"organic_results\"]]"
   ]
  },
  {
   "cell_type": "markdown",
   "metadata": {},
   "source": [
    "Note that because this tool is async, we cannot use `tool.func` to call it as before:"
   ]
  },
  {
   "cell_type": "code",
   "execution_count": 14,
   "metadata": {},
   "outputs": [],
   "source": [
    "serpapi.func"
   ]
  },
  {
   "cell_type": "markdown",
   "metadata": {},
   "source": [
    "Instead, we use `tool.coroutine`:"
   ]
  },
  {
   "cell_type": "code",
   "execution_count": 12,
   "metadata": {},
   "outputs": [
    {
     "data": {
      "text/plain": [
       "<function __main__.serpapi(query: str) -> list[__main__.Article]>"
      ]
     },
     "execution_count": 12,
     "metadata": {},
     "output_type": "execute_result"
    }
   ],
   "source": [
    "serpapi.coroutine"
   ]
  },
  {
   "cell_type": "markdown",
   "metadata": {},
   "source": [
    "---"
   ]
  }
 ],
 "metadata": {
  "kernelspec": {
   "display_name": ".venv",
   "language": "python",
   "name": "python3"
  },
  "language_info": {
   "codemirror_mode": {
    "name": "ipython",
    "version": 3
   },
   "file_extension": ".py",
   "mimetype": "text/x-python",
   "name": "python",
   "nbconvert_exporter": "python",
   "pygments_lexer": "ipython3",
   "version": "3.12.7"
  }
 },
 "nbformat": 4,
 "nbformat_minor": 2
}
